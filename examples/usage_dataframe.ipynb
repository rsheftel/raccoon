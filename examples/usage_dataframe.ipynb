{
 "cells": [
  {
   "cell_type": "markdown",
   "metadata": {},
   "source": [
    "Example Usage for DataFrame\n",
    "========================"
   ]
  },
  {
   "cell_type": "code",
   "execution_count": 132,
   "metadata": {
    "ExecuteTime": {
     "end_time": "2025-04-15T22:47:08.746098Z",
     "start_time": "2025-04-15T22:47:08.741814Z"
    },
    "pycharm": {
     "is_executing": false
    }
   },
   "outputs": [],
   "source": [
    "# remove comment to use latest development version\n",
    "import sys;\n",
    "\n",
    "sys.path.insert(0, '../')"
   ]
  },
  {
   "cell_type": "code",
   "execution_count": 133,
   "metadata": {
    "ExecuteTime": {
     "end_time": "2025-04-15T22:47:08.782962Z",
     "start_time": "2025-04-15T22:47:08.777904Z"
    },
    "pycharm": {
     "is_executing": false
    }
   },
   "outputs": [],
   "source": [
    "# import libraries\n",
    "import raccoon as rc"
   ]
  },
  {
   "cell_type": "markdown",
   "metadata": {},
   "source": [
    "Initialize\n",
    "----------"
   ]
  },
  {
   "cell_type": "code",
   "execution_count": 134,
   "metadata": {
    "ExecuteTime": {
     "end_time": "2025-04-15T22:47:08.815176Z",
     "start_time": "2025-04-15T22:47:08.808758Z"
    },
    "pycharm": {
     "is_executing": false
    }
   },
   "outputs": [
    {
     "data": {
      "text/plain": [
       "object id: 1602323641696\n",
       "columns:\n",
       "[]\n",
       "data:\n",
       "[]\n",
       "index:\n",
       "[]"
      ]
     },
     "execution_count": 134,
     "metadata": {},
     "output_type": "execute_result"
    }
   ],
   "source": [
    "# empty DataFrame\n",
    "df = rc.DataFrame()\n",
    "df"
   ]
  },
  {
   "cell_type": "code",
   "execution_count": 135,
   "metadata": {
    "ExecuteTime": {
     "end_time": "2025-04-15T22:47:08.834496Z",
     "start_time": "2025-04-15T22:47:08.827370Z"
    },
    "pycharm": {
     "is_executing": false
    }
   },
   "outputs": [
    {
     "data": {
      "text/plain": [
       "object id: 1602323630096\n",
       "columns:\n",
       "['a', 'b', 'c']\n",
       "data:\n",
       "[[None, None, None], [None, None, None], [None, None, None]]\n",
       "index:\n",
       "[1, 2, 3]"
      ]
     },
     "execution_count": 135,
     "metadata": {},
     "output_type": "execute_result"
    }
   ],
   "source": [
    "# with columns and indexes but no data\n",
    "df = rc.DataFrame(columns=['a', 'b', 'c'], index=[1, 2, 3])\n",
    "df"
   ]
  },
  {
   "cell_type": "code",
   "execution_count": 136,
   "metadata": {
    "ExecuteTime": {
     "end_time": "2025-04-15T22:47:08.897683Z",
     "start_time": "2025-04-15T22:47:08.890981Z"
    },
    "pycharm": {
     "is_executing": false
    }
   },
   "outputs": [
    {
     "data": {
      "text/plain": [
       "object id: 1602323182784\n",
       "columns:\n",
       "['a', 'b']\n",
       "data:\n",
       "[[1, 2, 3], [4, 5, 6]]\n",
       "index:\n",
       "[10, 11, 12]"
      ]
     },
     "execution_count": 136,
     "metadata": {},
     "output_type": "execute_result"
    }
   ],
   "source": [
    "# with data\n",
    "df = rc.DataFrame(data={'a': [1, 2, 3], 'b': [4, 5, 6]}, index=[10, 11, 12], columns=['a', 'b'])\n",
    "df"
   ]
  },
  {
   "cell_type": "markdown",
   "metadata": {},
   "source": [
    "Print\n",
    "-----"
   ]
  },
  {
   "cell_type": "code",
   "execution_count": 137,
   "metadata": {
    "ExecuteTime": {
     "end_time": "2025-04-15T22:47:08.929244Z",
     "start_time": "2025-04-15T22:47:08.924065Z"
    },
    "pycharm": {
     "is_executing": false
    }
   },
   "outputs": [
    {
     "name": "stdout",
     "output_type": "stream",
     "text": [
      "  index    a    b\n",
      "-------  ---  ---\n",
      "     10    1    4\n",
      "     11    2    5\n",
      "     12    3    6\n"
     ]
    }
   ],
   "source": [
    "df.print()"
   ]
  },
  {
   "cell_type": "code",
   "execution_count": 138,
   "metadata": {
    "ExecuteTime": {
     "end_time": "2025-04-15T22:47:08.975453Z",
     "start_time": "2025-04-15T22:47:08.970798Z"
    }
   },
   "outputs": [
    {
     "name": "stdout",
     "output_type": "stream",
     "text": [
      "  index    a    b\n",
      "-------  ---  ---\n",
      "     10    1    4\n",
      "     11    2    5\n",
      "     12    3    6\n"
     ]
    }
   ],
   "source": [
    "print(df)"
   ]
  },
  {
   "cell_type": "markdown",
   "metadata": {},
   "source": [
    "Setters and Getters\n",
    "-------------------"
   ]
  },
  {
   "cell_type": "code",
   "execution_count": 139,
   "metadata": {
    "ExecuteTime": {
     "end_time": "2025-04-15T22:47:09.075689Z",
     "start_time": "2025-04-15T22:47:09.069310Z"
    }
   },
   "outputs": [
    {
     "data": {
      "text/plain": [
       "['a', 'b']"
      ]
     },
     "execution_count": 139,
     "metadata": {},
     "output_type": "execute_result"
    }
   ],
   "source": [
    "# columns\n",
    "df.columns"
   ]
  },
  {
   "cell_type": "code",
   "execution_count": 140,
   "metadata": {
    "ExecuteTime": {
     "end_time": "2025-04-15T22:47:09.157721Z",
     "start_time": "2025-04-15T22:47:09.149672Z"
    }
   },
   "outputs": [
    {
     "name": "stdout",
     "output_type": "stream",
     "text": [
      "  index    first    second\n",
      "-------  -------  --------\n",
      "     10        1         4\n",
      "     11        2         5\n",
      "     12        3         6\n"
     ]
    }
   ],
   "source": [
    "df.columns = ['first', 'second']\n",
    "print(df)"
   ]
  },
  {
   "cell_type": "code",
   "execution_count": 141,
   "metadata": {
    "ExecuteTime": {
     "end_time": "2025-04-15T22:47:09.222747Z",
     "start_time": "2025-04-15T22:47:09.216632Z"
    }
   },
   "outputs": [
    {
     "data": {
      "text/plain": [
       "['a', 'b']"
      ]
     },
     "execution_count": 141,
     "metadata": {},
     "output_type": "execute_result"
    }
   ],
   "source": [
    "# columns can be renamed with a dict()\n",
    "df.rename_columns({'second': 'b', 'first': 'a'})\n",
    "df.columns"
   ]
  },
  {
   "cell_type": "code",
   "execution_count": 142,
   "metadata": {
    "ExecuteTime": {
     "end_time": "2025-04-15T22:47:09.276707Z",
     "start_time": "2025-04-15T22:47:09.270218Z"
    }
   },
   "outputs": [
    {
     "data": {
      "text/plain": [
       "[10, 11, 12]"
      ]
     },
     "execution_count": 142,
     "metadata": {},
     "output_type": "execute_result"
    }
   ],
   "source": [
    "# index\n",
    "df.index"
   ]
  },
  {
   "cell_type": "code",
   "execution_count": 143,
   "metadata": {
    "ExecuteTime": {
     "end_time": "2025-04-15T22:47:09.345384Z",
     "start_time": "2025-04-15T22:47:09.339360Z"
    }
   },
   "outputs": [
    {
     "name": "stdout",
     "output_type": "stream",
     "text": [
      "index      a    b\n",
      "-------  ---  ---\n",
      "apple      1    4\n",
      "pear       2    5\n",
      "7.7        3    6\n"
     ]
    }
   ],
   "source": [
    "#indexes can be any non-repeating unique values\n",
    "df.index = ['apple', 'pear', 7.7]\n",
    "df.print()"
   ]
  },
  {
   "cell_type": "code",
   "execution_count": 144,
   "metadata": {
    "ExecuteTime": {
     "end_time": "2025-04-15T22:47:09.376508Z",
     "start_time": "2025-04-15T22:47:09.370958Z"
    }
   },
   "outputs": [
    {
     "name": "stdout",
     "output_type": "stream",
     "text": [
      "  index    a    b\n",
      "-------  ---  ---\n",
      "     10    1    4\n",
      "     11    2    5\n",
      "     12    3    6\n"
     ]
    }
   ],
   "source": [
    "df.index = [10, 11, 12]\n",
    "print(df)"
   ]
  },
  {
   "cell_type": "code",
   "execution_count": 145,
   "metadata": {
    "ExecuteTime": {
     "end_time": "2025-04-15T22:47:09.424851Z",
     "start_time": "2025-04-15T22:47:09.418477Z"
    }
   },
   "outputs": [
    {
     "data": {
      "text/plain": [
       "'index'"
      ]
     },
     "execution_count": 145,
     "metadata": {},
     "output_type": "execute_result"
    }
   ],
   "source": [
    "# the index can also have a name, befault it is \"index\"\n",
    "df.index_name"
   ]
  },
  {
   "cell_type": "code",
   "execution_count": 146,
   "metadata": {
    "ExecuteTime": {
     "end_time": "2025-04-15T22:47:09.499603Z",
     "start_time": "2025-04-15T22:47:09.493327Z"
    }
   },
   "outputs": [
    {
     "data": {
      "text/plain": [
       "'units'"
      ]
     },
     "execution_count": 146,
     "metadata": {},
     "output_type": "execute_result"
    }
   ],
   "source": [
    "df.index_name = 'units'\n",
    "df.index_name"
   ]
  },
  {
   "cell_type": "code",
   "execution_count": 147,
   "metadata": {
    "ExecuteTime": {
     "end_time": "2025-04-15T22:47:09.556073Z",
     "start_time": "2025-04-15T22:47:09.546661Z"
    }
   },
   "outputs": [
    {
     "data": {
      "text/plain": [
       "[[1, 2, 3], [4, 5, 6]]"
      ]
     },
     "execution_count": 147,
     "metadata": {},
     "output_type": "execute_result"
    }
   ],
   "source": [
    "# data is a shallow copy, be careful on how this is used\n",
    "df.index_name = 'index'\n",
    "df.data"
   ]
  },
  {
   "cell_type": "markdown",
   "metadata": {},
   "source": [
    "Select Index\n",
    "------------"
   ]
  },
  {
   "cell_type": "code",
   "execution_count": 148,
   "metadata": {
    "ExecuteTime": {
     "end_time": "2025-04-15T22:47:09.614009Z",
     "start_time": "2025-04-15T22:47:09.605998Z"
    }
   },
   "outputs": [
    {
     "data": {
      "text/plain": [
       "[False, True, False]"
      ]
     },
     "execution_count": 148,
     "metadata": {},
     "output_type": "execute_result"
    }
   ],
   "source": [
    "df.select_index(11)"
   ]
  },
  {
   "cell_type": "markdown",
   "metadata": {},
   "source": [
    "Set Values\n",
    "----------"
   ]
  },
  {
   "cell_type": "code",
   "execution_count": 149,
   "metadata": {
    "ExecuteTime": {
     "end_time": "2025-04-15T22:47:09.646115Z",
     "start_time": "2025-04-15T22:47:09.638399Z"
    }
   },
   "outputs": [
    {
     "name": "stdout",
     "output_type": "stream",
     "text": [
      "  index    a    b\n",
      "-------  ---  ---\n",
      "     10  100    4\n",
      "     11    2    5\n",
      "     12    3    6\n"
     ]
    }
   ],
   "source": [
    "# set a single cell\n",
    "df.set(10, 'a', 100)\n",
    "print(df)"
   ]
  },
  {
   "cell_type": "code",
   "execution_count": 150,
   "metadata": {
    "ExecuteTime": {
     "end_time": "2025-04-15T22:47:09.721432Z",
     "start_time": "2025-04-15T22:47:09.715612Z"
    }
   },
   "outputs": [
    {
     "name": "stdout",
     "output_type": "stream",
     "text": [
      "  index    a    b    c\n",
      "-------  ---  ---  ---\n",
      "     10  100    4\n",
      "     11    2    5\n",
      "     12    3    6\n",
      "     13              9\n"
     ]
    }
   ],
   "source": [
    "# set a value outside current range creates a new row and/or column. Can also use [] for setting\n",
    "df[13, 'c'] = 9\n",
    "df.print()"
   ]
  },
  {
   "cell_type": "code",
   "execution_count": 151,
   "metadata": {
    "ExecuteTime": {
     "end_time": "2025-04-15T22:47:09.773982Z",
     "start_time": "2025-04-15T22:47:09.766893Z"
    }
   },
   "outputs": [
    {
     "name": "stdout",
     "output_type": "stream",
     "text": [
      "  index    a    b    c\n",
      "-------  ---  ---  ---\n",
      "     10  100   55\n",
      "     11    2   55\n",
      "     12    3   55\n",
      "     13        55    9\n"
     ]
    }
   ],
   "source": [
    "# set column\n",
    "df['b'] = 55\n",
    "print(df)"
   ]
  },
  {
   "cell_type": "code",
   "execution_count": 152,
   "metadata": {
    "ExecuteTime": {
     "end_time": "2025-04-15T22:47:09.845538Z",
     "start_time": "2025-04-15T22:47:09.839361Z"
    }
   },
   "outputs": [
    {
     "name": "stdout",
     "output_type": "stream",
     "text": [
      "  index    a    b    c\n",
      "-------  ---  ---  ---\n",
      "     10  100   66\n",
      "     11    2   55\n",
      "     12    3   66\n",
      "     13        55    9\n"
     ]
    }
   ],
   "source": [
    "# set a subset of column\n",
    "df[[10, 12], 'b'] = 66\n",
    "print(df)"
   ]
  },
  {
   "cell_type": "code",
   "execution_count": 153,
   "metadata": {
    "ExecuteTime": {
     "end_time": "2025-04-15T22:47:09.889245Z",
     "start_time": "2025-04-15T22:47:09.883036Z"
    }
   },
   "outputs": [
    {
     "name": "stdout",
     "output_type": "stream",
     "text": [
      "  index    a    b    c\n",
      "-------  ---  ---  ---\n",
      "     10  100   88\n",
      "     11    2   55\n",
      "     12    3   99\n",
      "     13        55    9\n"
     ]
    }
   ],
   "source": [
    "# using boolean list\n",
    "df.set([True, False, True, False], 'b', [88, 99])\n",
    "print(df)"
   ]
  },
  {
   "cell_type": "code",
   "execution_count": 154,
   "metadata": {
    "ExecuteTime": {
     "end_time": "2025-04-15T22:47:09.919905Z",
     "start_time": "2025-04-15T22:47:09.913766Z"
    }
   },
   "outputs": [
    {
     "name": "stdout",
     "output_type": "stream",
     "text": [
      "  index    a    b    c\n",
      "-------  ---  ---  ---\n",
      "     10  100   88\n",
      "     11    2   55\n",
      "     12   33   99\n",
      "     13   33   55    9\n"
     ]
    }
   ],
   "source": [
    "# setting with slices\n",
    "df[12:13, 'a'] = 33\n",
    "print(df)"
   ]
  },
  {
   "cell_type": "code",
   "execution_count": 155,
   "metadata": {
    "ExecuteTime": {
     "end_time": "2025-04-15T22:47:09.989443Z",
     "start_time": "2025-04-15T22:47:09.983229Z"
    }
   },
   "outputs": [
    {
     "name": "stdout",
     "output_type": "stream",
     "text": [
      "  index    a    b    c\n",
      "-------  ---  ---  ---\n",
      "     10  100   88    1\n",
      "     11    2   55    2\n",
      "     12   33   99    3\n",
      "     13   33   55    9\n"
     ]
    }
   ],
   "source": [
    "df[10:12, 'c'] = [1, 2, 3]\n",
    "print(df)"
   ]
  },
  {
   "cell_type": "code",
   "execution_count": 156,
   "metadata": {
    "ExecuteTime": {
     "end_time": "2025-04-15T22:47:10.012289Z",
     "start_time": "2025-04-15T22:47:10.005278Z"
    }
   },
   "outputs": [
    {
     "name": "stdout",
     "output_type": "stream",
     "text": [
      "  index    a    b    c    d\n",
      "-------  ---  ---  ---  ---\n",
      "     10  100   88    1\n",
      "     11    2   55    2\n",
      "     12   33   99    3\n",
      "     13   33   55    9\n",
      "     14   44       100   99\n"
     ]
    }
   ],
   "source": [
    "# append a row, DANGEROUS as there is not validation checking, but can be used for speed\n",
    "df.append_row(14, {'a': 44, 'c': 100, 'd': 99})\n",
    "print(df)"
   ]
  },
  {
   "cell_type": "code",
   "execution_count": 157,
   "metadata": {
    "ExecuteTime": {
     "end_time": "2025-04-15T22:47:10.073845Z",
     "start_time": "2025-04-15T22:47:10.067595Z"
    }
   },
   "outputs": [
    {
     "name": "stdout",
     "output_type": "stream",
     "text": [
      "  index    a    b    c    d\n",
      "-------  ---  ---  ---  ---\n",
      "     10  100   88    1\n",
      "     11    2   55    2\n",
      "     12   33   99    3\n",
      "     13   33   55    9\n",
      "     14   44       100   99\n",
      "     15   55            100\n",
      "     16   56            101\n"
     ]
    }
   ],
   "source": [
    "# append rows, again use caution\n",
    "df.append_rows([15, 16], {'a': [55, 56], 'd': [100, 101]})\n",
    "print(df)"
   ]
  },
  {
   "cell_type": "markdown",
   "metadata": {},
   "source": [
    "Get Values\n",
    "----------"
   ]
  },
  {
   "cell_type": "code",
   "execution_count": 158,
   "metadata": {
    "ExecuteTime": {
     "end_time": "2025-04-15T22:47:10.107007Z",
     "start_time": "2025-04-15T22:47:10.101364Z"
    }
   },
   "outputs": [
    {
     "data": {
      "text/plain": [
       "100"
      ]
     },
     "execution_count": 158,
     "metadata": {},
     "output_type": "execute_result"
    }
   ],
   "source": [
    "# get a single cell\n",
    "df[10, 'a']"
   ]
  },
  {
   "cell_type": "code",
   "execution_count": 159,
   "metadata": {
    "ExecuteTime": {
     "end_time": "2025-04-15T22:47:10.152672Z",
     "start_time": "2025-04-15T22:47:10.147193Z"
    }
   },
   "outputs": [
    {
     "name": "stdout",
     "output_type": "stream",
     "text": [
      "  index    c\n",
      "-------  ---\n",
      "     10    1\n",
      "     11    2\n",
      "     12    3\n",
      "     13    9\n",
      "     14  100\n",
      "     15\n",
      "     16\n"
     ]
    }
   ],
   "source": [
    "# get an entire column\n",
    "df['c'].print()"
   ]
  },
  {
   "cell_type": "code",
   "execution_count": 160,
   "metadata": {
    "ExecuteTime": {
     "end_time": "2025-04-15T22:47:10.201198Z",
     "start_time": "2025-04-15T22:47:10.195206Z"
    }
   },
   "outputs": [
    {
     "name": "stdout",
     "output_type": "stream",
     "text": [
      "  index    a    c\n",
      "-------  ---  ---\n",
      "     10  100    1\n",
      "     11    2    2\n",
      "     12   33    3\n",
      "     13   33    9\n",
      "     14   44  100\n",
      "     15   55\n",
      "     16   56\n"
     ]
    }
   ],
   "source": [
    "# get list of columns\n",
    "df[['a', 'c']].print()"
   ]
  },
  {
   "cell_type": "code",
   "execution_count": 161,
   "metadata": {
    "ExecuteTime": {
     "end_time": "2025-04-15T22:47:10.272100Z",
     "start_time": "2025-04-15T22:47:10.267019Z"
    }
   },
   "outputs": [
    {
     "name": "stdout",
     "output_type": "stream",
     "text": [
      "  index    b\n",
      "-------  ---\n",
      "     11   55\n",
      "     12   99\n",
      "     13   55\n"
     ]
    }
   ],
   "source": [
    "# get subset of the index\n",
    "df[[11, 12, 13], 'b'].print()"
   ]
  },
  {
   "cell_type": "code",
   "execution_count": 162,
   "metadata": {
    "ExecuteTime": {
     "end_time": "2025-04-15T22:47:10.306719Z",
     "start_time": "2025-04-15T22:47:10.301050Z"
    }
   },
   "outputs": [
    {
     "name": "stdout",
     "output_type": "stream",
     "text": [
      "  index    b\n",
      "-------  ---\n",
      "     11   55\n",
      "     12   99\n",
      "     13   55\n"
     ]
    }
   ],
   "source": [
    "# get using slices\n",
    "df[11:13, 'b'].print()"
   ]
  },
  {
   "cell_type": "code",
   "execution_count": 163,
   "metadata": {
    "ExecuteTime": {
     "end_time": "2025-04-15T22:47:10.351164Z",
     "start_time": "2025-04-15T22:47:10.345315Z"
    }
   },
   "outputs": [
    {
     "name": "stdout",
     "output_type": "stream",
     "text": [
      "  index    a    c\n",
      "-------  ---  ---\n",
      "     10  100    1\n",
      "     11    2    2\n"
     ]
    }
   ],
   "source": [
    "# get a matrix\n",
    "df[10:11, ['a', 'c']].print()"
   ]
  },
  {
   "cell_type": "code",
   "execution_count": 164,
   "metadata": {
    "ExecuteTime": {
     "end_time": "2025-04-15T22:47:10.420751Z",
     "start_time": "2025-04-15T22:47:10.414126Z"
    }
   },
   "outputs": [
    {
     "data": {
      "text/plain": [
       "[100, 2, 33, 33, 44, 55, 56]"
      ]
     },
     "execution_count": 164,
     "metadata": {},
     "output_type": "execute_result"
    }
   ],
   "source": [
    "# get a column, return as a list\n",
    "df.get(columns='a', as_list=True)"
   ]
  },
  {
   "cell_type": "code",
   "execution_count": 165,
   "metadata": {
    "ExecuteTime": {
     "end_time": "2025-04-15T22:47:10.466573Z",
     "start_time": "2025-04-15T22:47:10.459827Z"
    }
   },
   "outputs": [
    {
     "data": {
      "text/plain": [
       "{'a': 33, 'b': 55, 'index': 13}"
      ]
     },
     "execution_count": 165,
     "metadata": {},
     "output_type": "execute_result"
    }
   ],
   "source": [
    "# get a row and return as a dictionary\n",
    "df.get_columns(index=13, columns=['a', 'b'], as_dict=True)"
   ]
  },
  {
   "cell_type": "code",
   "execution_count": 166,
   "metadata": {
    "ExecuteTime": {
     "end_time": "2025-04-15T22:47:10.500533Z",
     "start_time": "2025-04-15T22:47:10.492898Z"
    }
   },
   "outputs": [
    {
     "data": {
      "text/plain": [
       "tuplename(a=33, b=55)"
      ]
     },
     "execution_count": 166,
     "metadata": {},
     "output_type": "execute_result"
    }
   ],
   "source": [
    "# get a row and return as a namedtuple, excluding the index\n",
    "df.get_columns(index=13, columns=['a', 'b'], as_namedtuple=True, name=\"tuplename\", include_index=False)"
   ]
  },
  {
   "cell_type": "markdown",
   "metadata": {},
   "source": [
    "Set and Get by Location\n",
    "-----------------------\n",
    "Locations are the index of the index, in other words the index locations from 0...len(index)"
   ]
  },
  {
   "cell_type": "code",
   "execution_count": 167,
   "metadata": {
    "ExecuteTime": {
     "end_time": "2025-04-15T22:47:10.581191Z",
     "start_time": "2025-04-15T22:47:10.575155Z"
    }
   },
   "outputs": [
    {
     "data": {
      "text/plain": [
       "33"
      ]
     },
     "execution_count": 167,
     "metadata": {},
     "output_type": "execute_result"
    }
   ],
   "source": [
    "# get a single cell\n",
    "df.get_location(2, 'a')"
   ]
  },
  {
   "cell_type": "code",
   "execution_count": 168,
   "metadata": {
    "ExecuteTime": {
     "end_time": "2025-04-15T22:47:10.675921Z",
     "start_time": "2025-04-15T22:47:10.670595Z"
    }
   },
   "outputs": [
    {
     "name": "stdout",
     "output_type": "stream",
     "text": [
      "  index    a    b    c  d\n",
      "-------  ---  ---  ---  ---\n",
      "     12   33   99    3\n"
     ]
    }
   ],
   "source": [
    "# get an entire row when the columns is None\n",
    "print(df.get_location(2))"
   ]
  },
  {
   "cell_type": "code",
   "execution_count": 169,
   "metadata": {
    "ExecuteTime": {
     "end_time": "2025-04-15T22:47:10.824274Z",
     "start_time": "2025-04-15T22:47:10.818095Z"
    }
   },
   "outputs": [
    {
     "data": {
      "text/plain": [
       "{'b': 88, 'c': 1, 'index': 10}"
      ]
     },
     "execution_count": 169,
     "metadata": {},
     "output_type": "execute_result"
    }
   ],
   "source": [
    "df.get_location(0, ['b', 'c'], as_dict=True)"
   ]
  },
  {
   "cell_type": "code",
   "execution_count": 170,
   "metadata": {
    "ExecuteTime": {
     "end_time": "2025-04-15T22:47:10.990392Z",
     "start_time": "2025-04-15T22:47:10.983317Z"
    }
   },
   "outputs": [
    {
     "data": {
      "text/plain": [
       "tuplename(a=2, b=55, c=2, d=None)"
      ]
     },
     "execution_count": 170,
     "metadata": {},
     "output_type": "execute_result"
    }
   ],
   "source": [
    "df.get_location(1, as_namedtuple=True, name=\"tuplename\", index=False)"
   ]
  },
  {
   "cell_type": "code",
   "execution_count": 171,
   "metadata": {
    "ExecuteTime": {
     "end_time": "2025-04-15T22:47:11.173318Z",
     "start_time": "2025-04-15T22:47:11.168316Z"
    }
   },
   "outputs": [
    {
     "name": "stdout",
     "output_type": "stream",
     "text": [
      "  index    a  b    c      d\n",
      "-------  ---  ---  ---  ---\n",
      "     16   56            101\n"
     ]
    }
   ],
   "source": [
    "df.get_location(-1).print()"
   ]
  },
  {
   "cell_type": "code",
   "execution_count": 172,
   "metadata": {
    "ExecuteTime": {
     "end_time": "2025-04-15T22:47:11.251008Z",
     "start_time": "2025-04-15T22:47:11.244620Z"
    }
   },
   "outputs": [
    {
     "name": "stdout",
     "output_type": "stream",
     "text": [
      "  index    a    b    c  d\n",
      "-------  ---  ---  ---  ---\n",
      "     10  100   88    1\n",
      "     12   33   99    3\n"
     ]
    }
   ],
   "source": [
    "df.get_locations(locations=[0, 2]).print()"
   ]
  },
  {
   "cell_type": "code",
   "execution_count": 173,
   "metadata": {
    "ExecuteTime": {
     "end_time": "2025-04-15T22:47:11.324973Z",
     "start_time": "2025-04-15T22:47:11.318821Z"
    }
   },
   "outputs": [
    {
     "name": "stdout",
     "output_type": "stream",
     "text": [
      "  index    a    b    c    d\n",
      "-------  ---  ---  ---  ---\n",
      "     10   -9   88    1\n",
      "     11    2   55    2\n",
      "     12   -9   99    3\n",
      "     13   33   55    9\n",
      "     14   44       100   99\n",
      "     15   55            100\n",
      "     16   56            101\n"
     ]
    }
   ],
   "source": [
    "df.set_locations(locations=[0, 2], column='a', values=-9)\n",
    "df.print()"
   ]
  },
  {
   "cell_type": "markdown",
   "metadata": {},
   "source": [
    "Head and Tail\n",
    "-------------"
   ]
  },
  {
   "cell_type": "code",
   "execution_count": 174,
   "metadata": {
    "ExecuteTime": {
     "end_time": "2025-04-15T22:47:11.465349Z",
     "start_time": "2025-04-15T22:47:11.459938Z"
    }
   },
   "outputs": [
    {
     "name": "stdout",
     "output_type": "stream",
     "text": [
      "  index    a    b    c  d\n",
      "-------  ---  ---  ---  ---\n",
      "     10   -9   88    1\n",
      "     11    2   55    2\n"
     ]
    }
   ],
   "source": [
    "df.head(2).print()"
   ]
  },
  {
   "cell_type": "code",
   "execution_count": 175,
   "metadata": {
    "ExecuteTime": {
     "end_time": "2025-04-15T22:47:11.569526Z",
     "start_time": "2025-04-15T22:47:11.564092Z"
    }
   },
   "outputs": [
    {
     "name": "stdout",
     "output_type": "stream",
     "text": [
      "  index    a  b    c      d\n",
      "-------  ---  ---  ---  ---\n",
      "     15   55            100\n",
      "     16   56            101\n"
     ]
    }
   ],
   "source": [
    "df.tail(2).print()"
   ]
  },
  {
   "cell_type": "markdown",
   "metadata": {},
   "source": [
    "Delete colunmns and rows\n",
    "------------------------"
   ]
  },
  {
   "cell_type": "code",
   "execution_count": 176,
   "metadata": {
    "ExecuteTime": {
     "end_time": "2025-04-15T22:47:11.640002Z",
     "start_time": "2025-04-15T22:47:11.634285Z"
    }
   },
   "outputs": [
    {
     "name": "stdout",
     "output_type": "stream",
     "text": [
      "  index    a    b    c    d\n",
      "-------  ---  ---  ---  ---\n",
      "     11    2   55    2\n",
      "     12   -9   99    3\n",
      "     14   44       100   99\n",
      "     15   55            100\n",
      "     16   56            101\n"
     ]
    }
   ],
   "source": [
    "df.delete_rows([10, 13])\n",
    "print(df)"
   ]
  },
  {
   "cell_type": "code",
   "execution_count": 177,
   "metadata": {
    "ExecuteTime": {
     "end_time": "2025-04-15T22:47:11.677591Z",
     "start_time": "2025-04-15T22:47:11.671222Z"
    }
   },
   "outputs": [
    {
     "name": "stdout",
     "output_type": "stream",
     "text": [
      "  index    a    c    d\n",
      "-------  ---  ---  ---\n",
      "     11    2    2\n",
      "     12   -9    3\n",
      "     14   44  100   99\n",
      "     15   55       100\n",
      "     16   56       101\n"
     ]
    }
   ],
   "source": [
    "df.delete_columns('b')\n",
    "print(df)"
   ]
  },
  {
   "cell_type": "markdown",
   "metadata": {},
   "source": [
    "Convert\n",
    "-------"
   ]
  },
  {
   "cell_type": "code",
   "execution_count": 178,
   "metadata": {
    "ExecuteTime": {
     "end_time": "2025-04-15T22:47:11.729564Z",
     "start_time": "2025-04-15T22:47:11.721116Z"
    }
   },
   "outputs": [
    {
     "data": {
      "text/plain": [
       "{'index': [11, 12, 14, 15, 16],\n",
       " 'a': [2, -9, 44, 55, 56],\n",
       " 'c': [2, 3, 100, None, None],\n",
       " 'd': [None, None, 99, 100, 101]}"
      ]
     },
     "execution_count": 178,
     "metadata": {},
     "output_type": "execute_result"
    }
   ],
   "source": [
    "# return a dict\n",
    "df.to_dict()"
   ]
  },
  {
   "cell_type": "code",
   "execution_count": 179,
   "metadata": {
    "ExecuteTime": {
     "end_time": "2025-04-15T22:47:11.794083Z",
     "start_time": "2025-04-15T22:47:11.787165Z"
    }
   },
   "outputs": [
    {
     "data": {
      "text/plain": [
       "{'a': [2, -9, 44, 55, 56],\n",
       " 'c': [2, 3, 100, None, None],\n",
       " 'd': [None, None, 99, 100, 101]}"
      ]
     },
     "execution_count": 179,
     "metadata": {},
     "output_type": "execute_result"
    }
   ],
   "source": [
    "# exclude the index\n",
    "df.to_dict(index=False)"
   ]
  },
  {
   "cell_type": "code",
   "execution_count": 180,
   "metadata": {
    "ExecuteTime": {
     "end_time": "2025-04-15T22:47:11.847297Z",
     "start_time": "2025-04-15T22:47:11.840815Z"
    }
   },
   "outputs": [
    {
     "data": {
      "text/plain": [
       "OrderedDict([('index', [11, 12, 14, 15, 16]),\n",
       "             ('a', [2, -9, 44, 55, 56]),\n",
       "             ('c', [2, 3, 100, None, None]),\n",
       "             ('d', [None, None, 99, 100, 101])])"
      ]
     },
     "execution_count": 180,
     "metadata": {},
     "output_type": "execute_result"
    }
   ],
   "source": [
    "# return an OrderedDict()\n",
    "df.to_dict(ordered=True)"
   ]
  },
  {
   "cell_type": "code",
   "execution_count": 181,
   "metadata": {
    "ExecuteTime": {
     "end_time": "2025-04-15T22:47:11.903623Z",
     "start_time": "2025-04-15T22:47:11.896528Z"
    }
   },
   "outputs": [
    {
     "data": {
      "text/plain": [
       "[2, 3, 100, None, None]"
      ]
     },
     "execution_count": 181,
     "metadata": {},
     "output_type": "execute_result"
    }
   ],
   "source": [
    "# return a list of just one column\n",
    "df['c'].to_list()"
   ]
  },
  {
   "cell_type": "code",
   "execution_count": 182,
   "metadata": {
    "ExecuteTime": {
     "end_time": "2025-04-15T22:47:11.946982Z",
     "start_time": "2025-04-15T22:47:11.942611Z"
    }
   },
   "outputs": [
    {
     "name": "stdout",
     "output_type": "stream",
     "text": [
      "{\"data\": {\"a\": [2, -9, 44, 55, 56], \"c\": [2, 3, 100, null, null], \"d\": [null, null, 99, 100, 101]}, \"index\": [11, 12, 14, 15, 16], \"meta_data\": {\"index_name\": \"index\", \"columns\": [\"a\", \"c\", \"d\"], \"sort\": false, \"dropin\": null}}\n"
     ]
    }
   ],
   "source": [
    "# convert to JSON\n",
    "string = df.to_json()\n",
    "print(string)"
   ]
  },
  {
   "cell_type": "code",
   "execution_count": 183,
   "metadata": {
    "ExecuteTime": {
     "end_time": "2025-04-15T22:47:11.986301Z",
     "start_time": "2025-04-15T22:47:11.981793Z"
    }
   },
   "outputs": [
    {
     "name": "stdout",
     "output_type": "stream",
     "text": [
      "  index    a    c    d\n",
      "-------  ---  ---  ---\n",
      "     11    2    2\n",
      "     12   -9    3\n",
      "     14   44  100   99\n",
      "     15   55       100\n",
      "     16   56       101\n"
     ]
    }
   ],
   "source": [
    "# construct DataFrame from JSON\n",
    "df_from_json = rc.DataFrame.from_json(string)\n",
    "print(df_from_json)"
   ]
  },
  {
   "cell_type": "markdown",
   "metadata": {},
   "source": [
    "Sort by Index and Column\n",
    "------------------------"
   ]
  },
  {
   "cell_type": "code",
   "execution_count": 184,
   "metadata": {
    "ExecuteTime": {
     "end_time": "2025-04-15T22:47:12.009287Z",
     "start_time": "2025-04-15T22:47:12.004191Z"
    }
   },
   "outputs": [
    {
     "name": "stdout",
     "output_type": "stream",
     "text": [
      "  index    a    b\n",
      "-------  ---  ---\n",
      "     25    4    6\n",
      "     24    3    7\n",
      "     23    2    8\n",
      "     22    1    9\n"
     ]
    }
   ],
   "source": [
    "df = rc.DataFrame({'a': [4, 3, 2, 1], 'b': [6, 7, 8, 9]}, index=[25, 24, 23, 22])\n",
    "print(df)"
   ]
  },
  {
   "cell_type": "code",
   "execution_count": 185,
   "metadata": {
    "ExecuteTime": {
     "end_time": "2025-04-15T22:47:12.080437Z",
     "start_time": "2025-04-15T22:47:12.073689Z"
    }
   },
   "outputs": [
    {
     "name": "stdout",
     "output_type": "stream",
     "text": [
      "  index    a    b\n",
      "-------  ---  ---\n",
      "     22    1    9\n",
      "     23    2    8\n",
      "     24    3    7\n",
      "     25    4    6\n"
     ]
    }
   ],
   "source": [
    "# sort by index. Sorts are inplace\n",
    "df.sort_index()\n",
    "print(df)"
   ]
  },
  {
   "cell_type": "code",
   "execution_count": 186,
   "metadata": {
    "ExecuteTime": {
     "end_time": "2025-04-15T22:47:12.162889Z",
     "start_time": "2025-04-15T22:47:12.156099Z"
    }
   },
   "outputs": [
    {
     "name": "stdout",
     "output_type": "stream",
     "text": [
      "  index    a    b\n",
      "-------  ---  ---\n",
      "     25    4    6\n",
      "     24    3    7\n",
      "     23    2    8\n",
      "     22    1    9\n"
     ]
    }
   ],
   "source": [
    "# sort by column\n",
    "df.sort_columns('b')\n",
    "print(df)"
   ]
  },
  {
   "cell_type": "code",
   "execution_count": 187,
   "metadata": {
    "ExecuteTime": {
     "end_time": "2025-04-15T22:47:12.222185Z",
     "start_time": "2025-04-15T22:47:12.216668Z"
    }
   },
   "outputs": [
    {
     "name": "stdout",
     "output_type": "stream",
     "text": [
      "  index    a    b\n",
      "-------  ---  ---\n",
      "     22    1    9\n",
      "     23    2    8\n",
      "     24    3    7\n",
      "     25    4    6\n"
     ]
    }
   ],
   "source": [
    "# sort by column in reverse order\n",
    "df.sort_columns('b', reverse=True)\n",
    "print(df)"
   ]
  },
  {
   "cell_type": "code",
   "execution_count": 188,
   "metadata": {
    "ExecuteTime": {
     "end_time": "2025-04-15T22:47:12.270342Z",
     "start_time": "2025-04-15T22:47:12.266284Z"
    }
   },
   "outputs": [],
   "source": [
    "# sorting with a key function is avaialble, see tests for examples"
   ]
  },
  {
   "cell_type": "markdown",
   "metadata": {},
   "source": [
    "Append\n",
    "------"
   ]
  },
  {
   "cell_type": "code",
   "execution_count": 189,
   "metadata": {
    "ExecuteTime": {
     "end_time": "2025-04-15T22:47:12.303923Z",
     "start_time": "2025-04-15T22:47:12.298653Z"
    }
   },
   "outputs": [
    {
     "name": "stdout",
     "output_type": "stream",
     "text": [
      "  index    a    b\n",
      "-------  ---  ---\n",
      "      1    1    5\n",
      "      2    2    6\n"
     ]
    }
   ],
   "source": [
    "df1 = rc.DataFrame({'a': [1, 2], 'b': [5, 6]}, index=[1, 2])\n",
    "df1.print()"
   ]
  },
  {
   "cell_type": "code",
   "execution_count": 190,
   "metadata": {
    "ExecuteTime": {
     "end_time": "2025-04-15T22:47:12.340612Z",
     "start_time": "2025-04-15T22:47:12.332333Z"
    }
   },
   "outputs": [
    {
     "name": "stdout",
     "output_type": "stream",
     "text": [
      "  index    b    c\n",
      "-------  ---  ---\n",
      "      3    7   11\n",
      "      4    8   12\n"
     ]
    }
   ],
   "source": [
    "df2 = rc.DataFrame({'b': [7, 8], 'c': [11, 12]}, index=[3, 4])\n",
    "print(df2)"
   ]
  },
  {
   "cell_type": "code",
   "execution_count": 191,
   "metadata": {
    "ExecuteTime": {
     "end_time": "2025-04-15T22:47:12.374375Z",
     "start_time": "2025-04-15T22:47:12.366020Z"
    }
   },
   "outputs": [
    {
     "name": "stdout",
     "output_type": "stream",
     "text": [
      "  index    a    b    c\n",
      "-------  ---  ---  ---\n",
      "      1    1    5\n",
      "      2    2    6\n",
      "      3         7   11\n",
      "      4         8   12\n"
     ]
    }
   ],
   "source": [
    "df1.append(df2)\n",
    "print(df1)"
   ]
  },
  {
   "cell_type": "markdown",
   "metadata": {},
   "source": [
    "Math Methods\n",
    "------------"
   ]
  },
  {
   "cell_type": "code",
   "execution_count": 192,
   "metadata": {
    "ExecuteTime": {
     "end_time": "2025-04-15T22:47:12.421557Z",
     "start_time": "2025-04-15T22:47:12.416340Z"
    }
   },
   "outputs": [],
   "source": [
    "df = rc.DataFrame({'a': [1, 2, 3], 'b': [2, 8, 9]})"
   ]
  },
  {
   "cell_type": "code",
   "execution_count": 193,
   "metadata": {
    "ExecuteTime": {
     "end_time": "2025-04-15T22:47:12.480489Z",
     "start_time": "2025-04-15T22:47:12.474321Z"
    }
   },
   "outputs": [
    {
     "data": {
      "text/plain": [
       "[False, False, True]"
      ]
     },
     "execution_count": 193,
     "metadata": {},
     "output_type": "execute_result"
    }
   ],
   "source": [
    "# test for equality\n",
    "df.equality('a', value=3)"
   ]
  },
  {
   "cell_type": "code",
   "execution_count": 194,
   "metadata": {
    "ExecuteTime": {
     "end_time": "2025-04-15T22:47:12.502979Z",
     "start_time": "2025-04-15T22:47:12.497639Z"
    }
   },
   "outputs": [
    {
     "data": {
      "text/plain": [
       "[False, False]"
      ]
     },
     "execution_count": 194,
     "metadata": {},
     "output_type": "execute_result"
    }
   ],
   "source": [
    "# all math methods can operate on a subset of the index\n",
    "df.equality('b', indexes=[1, 2], value=2)"
   ]
  },
  {
   "cell_type": "code",
   "execution_count": 195,
   "metadata": {
    "ExecuteTime": {
     "end_time": "2025-04-15T22:47:12.552408Z",
     "start_time": "2025-04-15T22:47:12.546810Z"
    }
   },
   "outputs": [
    {
     "data": {
      "text/plain": [
       "[3, 10, 12]"
      ]
     },
     "execution_count": 195,
     "metadata": {},
     "output_type": "execute_result"
    }
   ],
   "source": [
    "# add two columns\n",
    "df.add('a', 'b')"
   ]
  },
  {
   "cell_type": "code",
   "execution_count": 196,
   "metadata": {
    "ExecuteTime": {
     "end_time": "2025-04-15T22:47:12.596610Z",
     "start_time": "2025-04-15T22:47:12.591328Z"
    }
   },
   "outputs": [
    {
     "data": {
      "text/plain": [
       "[1, 6, 6]"
      ]
     },
     "execution_count": 196,
     "metadata": {},
     "output_type": "execute_result"
    }
   ],
   "source": [
    "# subtract\n",
    "df.subtract('b', 'a')"
   ]
  },
  {
   "cell_type": "code",
   "execution_count": 197,
   "metadata": {
    "ExecuteTime": {
     "end_time": "2025-04-15T22:47:12.632380Z",
     "start_time": "2025-04-15T22:47:12.626779Z"
    }
   },
   "outputs": [
    {
     "data": {
      "text/plain": [
       "[2, 27]"
      ]
     },
     "execution_count": 197,
     "metadata": {},
     "output_type": "execute_result"
    }
   ],
   "source": [
    "# multiply\n",
    "df.multiply('a', 'b', [0, 2])"
   ]
  },
  {
   "cell_type": "code",
   "execution_count": 198,
   "metadata": {
    "ExecuteTime": {
     "end_time": "2025-04-15T22:47:12.673467Z",
     "start_time": "2025-04-15T22:47:12.668116Z"
    }
   },
   "outputs": [
    {
     "data": {
      "text/plain": [
       "[2.0, 4.0, 3.0]"
      ]
     },
     "execution_count": 198,
     "metadata": {},
     "output_type": "execute_result"
    }
   ],
   "source": [
    "# divide\n",
    "df.divide('b', 'a')"
   ]
  },
  {
   "cell_type": "markdown",
   "metadata": {},
   "source": [
    "Multi-Index\n",
    "-----------\n",
    "Raccoon does not have true hierarchical mulit-index capabilities like Pandas, but attempts to mimic some of the capabilities with the use of tuples as the index. Raccoon does not provide any checking to make sure the indexes are all the same length or\n",
    "any other integrity checking."
   ]
  },
  {
   "cell_type": "code",
   "execution_count": 199,
   "metadata": {
    "ExecuteTime": {
     "end_time": "2025-04-15T22:47:12.743156Z",
     "start_time": "2025-04-15T22:47:12.737422Z"
    }
   },
   "outputs": [
    {
     "name": "stdout",
     "output_type": "stream",
     "text": [
      "index          a\n",
      "-----------  ---\n",
      "('a', 1, 3)    1\n",
      "('a', 1, 4)    2\n",
      "('a', 2, 3)    3\n",
      "('b', 1, 4)    4\n",
      "('b', 2, 1)    5\n",
      "('b', 3, 3)    6\n"
     ]
    }
   ],
   "source": [
    "tuples = [('a', 1, 3), ('a', 1, 4), ('a', 2, 3), ('b', 1, 4), ('b', 2, 1), ('b', 3, 3)]\n",
    "df = rc.DataFrame({'a': [1, 2, 3, 4, 5, 6]}, index=tuples)\n",
    "print(df)"
   ]
  },
  {
   "cell_type": "markdown",
   "metadata": {},
   "source": [
    "The select_index method works with tuples by allowing the * to act as a wild card for matching."
   ]
  },
  {
   "cell_type": "code",
   "execution_count": 200,
   "metadata": {
    "ExecuteTime": {
     "end_time": "2025-04-15T22:47:12.813260Z",
     "start_time": "2025-04-15T22:47:12.807006Z"
    }
   },
   "outputs": [
    {
     "data": {
      "text/plain": [
       "[True, True, True, False, False, False]"
      ]
     },
     "execution_count": 200,
     "metadata": {},
     "output_type": "execute_result"
    }
   ],
   "source": [
    "compare = ('a', None, None)\n",
    "df.select_index(compare)"
   ]
  },
  {
   "cell_type": "code",
   "execution_count": 201,
   "metadata": {
    "ExecuteTime": {
     "end_time": "2025-04-15T22:47:12.850419Z",
     "start_time": "2025-04-15T22:47:12.844931Z"
    }
   },
   "outputs": [
    {
     "data": {
      "text/plain": [
       "[True, False, True, False, False, False]"
      ]
     },
     "execution_count": 201,
     "metadata": {},
     "output_type": "execute_result"
    }
   ],
   "source": [
    "compare = ('a', None, 3)\n",
    "df.select_index(compare, 'boolean')"
   ]
  },
  {
   "cell_type": "code",
   "execution_count": 202,
   "metadata": {
    "ExecuteTime": {
     "end_time": "2025-04-15T22:47:12.893226Z",
     "start_time": "2025-04-15T22:47:12.887477Z"
    }
   },
   "outputs": [
    {
     "data": {
      "text/plain": [
       "[('a', 2, 3), ('b', 2, 1)]"
      ]
     },
     "execution_count": 202,
     "metadata": {},
     "output_type": "execute_result"
    }
   ],
   "source": [
    "compare = (None, 2, None)\n",
    "df.select_index(compare, 'value')"
   ]
  },
  {
   "cell_type": "code",
   "execution_count": 203,
   "metadata": {
    "ExecuteTime": {
     "end_time": "2025-04-15T22:47:12.931270Z",
     "start_time": "2025-04-15T22:47:12.925555Z"
    }
   },
   "outputs": [
    {
     "data": {
      "text/plain": [
       "[('a', 1, 3), ('a', 2, 3), ('b', 3, 3)]"
      ]
     },
     "execution_count": 203,
     "metadata": {},
     "output_type": "execute_result"
    }
   ],
   "source": [
    "compare = (None, None, 3)\n",
    "df.select_index(compare, 'value')"
   ]
  },
  {
   "cell_type": "code",
   "execution_count": 204,
   "metadata": {
    "ExecuteTime": {
     "end_time": "2025-04-15T22:47:12.965439Z",
     "start_time": "2025-04-15T22:47:12.960694Z"
    }
   },
   "outputs": [
    {
     "data": {
      "text/plain": [
       "[True, True, True, True, True, True]"
      ]
     },
     "execution_count": 204,
     "metadata": {},
     "output_type": "execute_result"
    }
   ],
   "source": [
    "compare = (None, None, None)\n",
    "df.select_index(compare)"
   ]
  },
  {
   "cell_type": "markdown",
   "metadata": {},
   "source": [
    "Reset Index\n",
    "-----------"
   ]
  },
  {
   "cell_type": "code",
   "execution_count": 205,
   "metadata": {
    "ExecuteTime": {
     "end_time": "2025-04-15T22:47:12.986721Z",
     "start_time": "2025-04-15T22:47:12.982181Z"
    }
   },
   "outputs": [
    {
     "name": "stdout",
     "output_type": "stream",
     "text": [
      "  index    a    b\n",
      "-------  ---  ---\n",
      "      0    1    4\n",
      "      1    2    5\n",
      "      2    3    6\n"
     ]
    }
   ],
   "source": [
    "df = rc.DataFrame({'a': [1, 2, 3], 'b': [4, 5, 6]}, columns=['a', 'b'])\n",
    "print(df)"
   ]
  },
  {
   "cell_type": "code",
   "execution_count": 206,
   "metadata": {
    "ExecuteTime": {
     "end_time": "2025-04-15T22:47:13.031902Z",
     "start_time": "2025-04-15T22:47:13.026515Z"
    }
   },
   "outputs": [
    {
     "data": {
      "text/plain": [
       "object id: 1602314513728\n",
       "columns:\n",
       "['a', 'b', 'index_0']\n",
       "data:\n",
       "[[1, 2, 3], [4, 5, 6], [0, 1, 2]]\n",
       "index:\n",
       "[0, 1, 2]"
      ]
     },
     "execution_count": 206,
     "metadata": {},
     "output_type": "execute_result"
    }
   ],
   "source": [
    "df.reset_index()\n",
    "df"
   ]
  },
  {
   "cell_type": "code",
   "execution_count": 207,
   "metadata": {
    "ExecuteTime": {
     "end_time": "2025-04-15T22:47:13.058276Z",
     "start_time": "2025-04-15T22:47:13.053567Z"
    }
   },
   "outputs": [
    {
     "name": "stdout",
     "output_type": "stream",
     "text": [
      "jelo      a    b\n",
      "------  ---  ---\n",
      "x         1    4\n",
      "y         2    5\n",
      "z         3    6\n"
     ]
    }
   ],
   "source": [
    "df = rc.DataFrame({'a': [1, 2, 3], 'b': [4, 5, 6]}, columns=['a', 'b'], index=['x', 'y', 'z'], index_name='jelo')\n",
    "print(df)"
   ]
  },
  {
   "cell_type": "code",
   "execution_count": 208,
   "metadata": {
    "ExecuteTime": {
     "end_time": "2025-04-15T22:47:13.107204Z",
     "start_time": "2025-04-15T22:47:13.102194Z"
    }
   },
   "outputs": [
    {
     "name": "stdout",
     "output_type": "stream",
     "text": [
      "  index    a    b  jelo\n",
      "-------  ---  ---  ------\n",
      "      0    1    4  x\n",
      "      1    2    5  y\n",
      "      2    3    6  z\n"
     ]
    }
   ],
   "source": [
    "df.reset_index()\n",
    "print(df)"
   ]
  },
  {
   "cell_type": "code",
   "execution_count": 209,
   "metadata": {
    "ExecuteTime": {
     "end_time": "2025-04-15T22:47:13.136737Z",
     "start_time": "2025-04-15T22:47:13.131786Z"
    }
   },
   "outputs": [
    {
     "name": "stdout",
     "output_type": "stream",
     "text": [
      "('melo', 'helo', 'gelo')      a    b\n",
      "--------------------------  ---  ---\n",
      "('a', 10, 'x')                1    4\n",
      "('b', 11, 'y')                2    5\n",
      "('c', 12, 'z')                3    6\n"
     ]
    }
   ],
   "source": [
    "df = rc.DataFrame({'a': [1, 2, 3], 'b': [4, 5, 6]}, columns=['a', 'b'],\n",
    "                  index=[('a', 10, 'x'), ('b', 11, 'y'), ('c', 12, 'z')], index_name=('melo', 'helo', 'gelo'))\n",
    "print(df)"
   ]
  },
  {
   "cell_type": "code",
   "execution_count": 210,
   "metadata": {
    "ExecuteTime": {
     "end_time": "2025-04-15T22:47:13.174199Z",
     "start_time": "2025-04-15T22:47:13.169724Z"
    }
   },
   "outputs": [
    {
     "name": "stdout",
     "output_type": "stream",
     "text": [
      "  index    a    b  melo      helo  gelo\n",
      "-------  ---  ---  ------  ------  ------\n",
      "      0    1    4  a           10  x\n",
      "      1    2    5  b           11  y\n",
      "      2    3    6  c           12  z\n"
     ]
    }
   ],
   "source": [
    "df.reset_index()\n",
    "print(df)"
   ]
  },
  {
   "cell_type": "code",
   "execution_count": 211,
   "metadata": {
    "ExecuteTime": {
     "end_time": "2025-04-15T22:47:13.212948Z",
     "start_time": "2025-04-15T22:47:13.207218Z"
    }
   },
   "outputs": [
    {
     "name": "stdout",
     "output_type": "stream",
     "text": [
      "jelo      a    b\n",
      "------  ---  ---\n",
      "x         1    4\n",
      "y         2    5\n",
      "z         3    6\n"
     ]
    }
   ],
   "source": [
    "df = rc.DataFrame({'a': [1, 2, 3], 'b': [4, 5, 6]}, columns=['a', 'b'], index=['x', 'y', 'z'], index_name='jelo')\n",
    "print(df)"
   ]
  },
  {
   "cell_type": "code",
   "execution_count": 212,
   "metadata": {
    "ExecuteTime": {
     "end_time": "2025-04-15T22:47:13.251260Z",
     "start_time": "2025-04-15T22:47:13.246941Z"
    }
   },
   "outputs": [
    {
     "name": "stdout",
     "output_type": "stream",
     "text": [
      "  index    a    b\n",
      "-------  ---  ---\n",
      "      0    1    4\n",
      "      1    2    5\n",
      "      2    3    6\n"
     ]
    }
   ],
   "source": [
    "df.reset_index(drop=True)\n",
    "print(df)"
   ]
  },
  {
   "cell_type": "markdown",
   "metadata": {},
   "source": [
    "Iterators\n",
    "---------"
   ]
  },
  {
   "cell_type": "code",
   "execution_count": 213,
   "metadata": {
    "ExecuteTime": {
     "end_time": "2025-04-15T22:47:13.284325Z",
     "start_time": "2025-04-15T22:47:13.280388Z"
    }
   },
   "outputs": [],
   "source": [
    "df = rc.DataFrame({'a': [1, 2, 'c'], 'b': [5, 6, 'd']}, index=[1, 2, 3])"
   ]
  },
  {
   "cell_type": "code",
   "execution_count": 214,
   "metadata": {
    "ExecuteTime": {
     "end_time": "2025-04-15T22:47:13.311413Z",
     "start_time": "2025-04-15T22:47:13.305726Z"
    }
   },
   "outputs": [
    {
     "name": "stdout",
     "output_type": "stream",
     "text": [
      "{'index': 1, 'a': 1, 'b': 5}\n",
      "{'index': 2, 'a': 2, 'b': 6}\n",
      "{'index': 3, 'a': 'c', 'b': 'd'}\n"
     ]
    }
   ],
   "source": [
    "for row in df.iterrows():\n",
    "    print(row)"
   ]
  },
  {
   "cell_type": "code",
   "execution_count": 215,
   "metadata": {
    "ExecuteTime": {
     "end_time": "2025-04-15T22:47:13.376046Z",
     "start_time": "2025-04-15T22:47:13.371280Z"
    }
   },
   "outputs": [
    {
     "name": "stdout",
     "output_type": "stream",
     "text": [
      "Raccoon(index=1, a=1, b=5)\n",
      "Raccoon(index=2, a=2, b=6)\n",
      "Raccoon(index=3, a='c', b='d')\n"
     ]
    }
   ],
   "source": [
    "for row in df.itertuples():\n",
    "    print(row)"
   ]
  },
  {
   "cell_type": "markdown",
   "metadata": {},
   "source": [
    "Sorted DataFrames\n",
    "-----------------\n",
    "DataFrames will be set to sorted by default if no index is given at initialization. If an index is given at initialization then the parameter sorted must be set to True"
   ]
  },
  {
   "cell_type": "code",
   "execution_count": 216,
   "metadata": {
    "ExecuteTime": {
     "end_time": "2025-04-15T22:47:13.481935Z",
     "start_time": "2025-04-15T22:47:13.477795Z"
    }
   },
   "outputs": [],
   "source": [
    "df = rc.DataFrame({'a': [3, 5, 4], 'b': [6, 8, 7]}, index=[12, 15, 14], sort=True)"
   ]
  },
  {
   "cell_type": "markdown",
   "metadata": {},
   "source": [
    "When sorted=True on initialization the data will be sorted by index to start"
   ]
  },
  {
   "cell_type": "code",
   "execution_count": 217,
   "metadata": {
    "ExecuteTime": {
     "end_time": "2025-04-15T22:47:13.547862Z",
     "start_time": "2025-04-15T22:47:13.542996Z"
    }
   },
   "outputs": [
    {
     "name": "stdout",
     "output_type": "stream",
     "text": [
      "  index    a    b\n",
      "-------  ---  ---\n",
      "     12    3    6\n",
      "     14    4    7\n",
      "     15    5    8\n"
     ]
    }
   ],
   "source": [
    "df.print()"
   ]
  },
  {
   "cell_type": "code",
   "execution_count": 218,
   "metadata": {
    "ExecuteTime": {
     "end_time": "2025-04-15T22:47:13.607717Z",
     "start_time": "2025-04-15T22:47:13.602745Z"
    }
   },
   "outputs": [
    {
     "name": "stdout",
     "output_type": "stream",
     "text": [
      "  index    a    b\n",
      "-------  ---  ---\n",
      "     12    3    6\n",
      "     14    4    7\n",
      "     15    5    8\n",
      "     16         9\n"
     ]
    }
   ],
   "source": [
    "df[16, 'b'] = 9\n",
    "print(df)"
   ]
  },
  {
   "cell_type": "code",
   "execution_count": 219,
   "metadata": {
    "ExecuteTime": {
     "end_time": "2025-04-15T22:47:13.642524Z",
     "start_time": "2025-04-15T22:47:13.637770Z"
    }
   },
   "outputs": [
    {
     "name": "stdout",
     "output_type": "stream",
     "text": [
      "  index    a    b\n",
      "-------  ---  ---\n",
      "     12  3    6\n",
      "     13  3.5  6.5\n",
      "     14  4    7\n",
      "     15  5    8\n",
      "     16       9\n"
     ]
    }
   ],
   "source": [
    "df.set(indexes=13, values={'a': 3.5, 'b': 6.5})\n",
    "print(df)"
   ]
  }
 ],
 "metadata": {
  "kernelspec": {
   "display_name": "Python [conda env:raccoon]",
   "language": "python",
   "name": "conda-env-raccoon-py"
  },
  "language_info": {
   "codemirror_mode": {
    "name": "ipython",
    "version": 3
   },
   "file_extension": ".py",
   "mimetype": "text/x-python",
   "name": "python",
   "nbconvert_exporter": "python",
   "pygments_lexer": "ipython3",
   "version": "3.13.2"
  },
  "pycharm": {
   "stem_cell": {
    "cell_type": "raw",
    "metadata": {
     "collapsed": false
    },
    "source": []
   }
  }
 },
 "nbformat": 4,
 "nbformat_minor": 4
}
